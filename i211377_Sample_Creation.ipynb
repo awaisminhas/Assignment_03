{
 "cells": [
  {
   "cell_type": "code",
   "execution_count": 17,
   "id": "7566ace4-a0ec-4612-a394-2965b0ceba18",
   "metadata": {},
   "outputs": [],
   "source": [
    "import json\n",
    "\n",
    "def copy_json_batchwise(input_file, output_file, batch_size=1000):\n",
    "    with open(input_file, 'r') as infile:\n",
    "        with open(output_file, 'w') as outfile:\n",
    "            for _ in range(2200):  # Run for 10 iterations\n",
    "                # Read a batch of entries from the input file\n",
    "                batch = []\n",
    "                for _ in range(batch_size):\n",
    "                    line = infile.readline()\n",
    "                    if not line:\n",
    "                        break\n",
    "                    batch.append(line.strip())\n",
    "                \n",
    "                # If no more entries, break the loop\n",
    "                if not batch:\n",
    "                    break\n",
    "                \n",
    "                # Write the batch to the output file\n",
    "                for entry in batch:\n",
    "                    outfile.write(entry)\n",
    "                    outfile.write('\\n')  # Add newline after each entry\n",
    "            \n",
    "            # Ensure the output file ends with proper JSON format\n",
    "            outfile.write(\"]\\n\")  # Close the JSON array\n",
    "\n",
    "if __name__ == \"__main__\":\n",
    "    input_file = 'data.json'  # Replace with the path to your input JSON file\n",
    "    output_file = 'i211377_sample.json'  # Replace with the path to the output JSON file\n",
    "    copy_json_batchwise(input_file, output_file)\n"
   ]
  },
  {
   "cell_type": "code",
   "execution_count": 12,
   "id": "7fdfd92c-88c5-46db-9e0a-6619e4e4971b",
   "metadata": {},
   "outputs": [],
   "source": []
  }
 ],
 "metadata": {
  "kernelspec": {
   "display_name": "Python 3 (ipykernel)",
   "language": "python",
   "name": "python3"
  },
  "language_info": {
   "codemirror_mode": {
    "name": "ipython",
    "version": 3
   },
   "file_extension": ".py",
   "mimetype": "text/x-python",
   "name": "python",
   "nbconvert_exporter": "python",
   "pygments_lexer": "ipython3",
   "version": "3.10.12"
  }
 },
 "nbformat": 4,
 "nbformat_minor": 5
}
