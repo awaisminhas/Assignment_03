{
 "cells": [
  {
   "cell_type": "code",
   "execution_count": 26,
   "id": "e89e66c9-d196-4386-a537-942b7d1efae2",
   "metadata": {},
   "outputs": [
    {
     "name": "stderr",
     "output_type": "stream",
     "text": [
      "[nltk_data] Downloading package punkt to /home/muhammad/nltk_data...\n",
      "[nltk_data]   Package punkt is already up-to-date!\n",
      "[nltk_data] Downloading package stopwords to\n",
      "[nltk_data]     /home/muhammad/nltk_data...\n",
      "[nltk_data]   Package stopwords is already up-to-date!\n"
     ]
    }
   ],
   "source": [
    "import json\n",
    "import re\n",
    "import nltk\n",
    "from nltk.corpus import stopwords\n",
    "from nltk.tokenize import word_tokenize\n",
    "from nltk.stem import PorterStemmer\n",
    "\n",
    "nltk.download('punkt')\n",
    "nltk.download('stopwords')\n",
    "\n",
    "# Function to read first 100 entries from a JSON file\n",
    "def read_data(filename, num_entries=100):\n",
    "    with open(filename, 'r') as file:\n",
    "        data = [json.loads(next(file)) for _ in range(num_entries)]\n",
    "    return data\n",
    "\n",
    "# Function to preprocess the data\n",
    "def preprocess_data(data):\n",
    "    # Iterate through each entry\n",
    "    for entry in data:\n",
    "        # Text preprocessing on description and title\n",
    "        entry['description'] = preprocess_text(entry.get('description', ''))\n",
    "        entry['title'] = preprocess_text(entry.get('title', ''))\n",
    "    return data\n",
    "\n",
    "def preprocess_text(text):\n",
    "    if isinstance(text, list):\n",
    "        # Join the list elements into a single string\n",
    "        text = ' '.join(text)\n",
    "    # Convert to lowercase\n",
    "    text = text.lower()\n",
    "    # Remove HTML tags\n",
    "    text = re.sub('<[^>]*>', '', text)\n",
    "    # Remove punctuation\n",
    "    text = re.sub(r'[^\\w\\s]', '', text)\n",
    "    # Tokenization\n",
    "    tokens = word_tokenize(text)\n",
    "    # Remove stopwords\n",
    "    stop_words = set(stopwords.words('english'))\n",
    "    filtered_tokens = [word for word in tokens if word not in stop_words]\n",
    "    # Stemming\n",
    "    stemmer = PorterStemmer()\n",
    "    stemmed_tokens = [stemmer.stem(word) for word in filtered_tokens]\n",
    "    # Join tokens back into a string\n",
    "    preprocessed_text = ' '.join(stemmed_tokens)\n",
    "    return preprocessed_text\n",
    "\n",
    "# Function to write data to a JSON file\n",
    "def write_data(data, filename):\n",
    "    with open(filename, 'w') as file:\n",
    "        json.dump(data, file, indent=4)\n",
    "\n",
    "# Main function\n",
    "def main():\n",
    "    # Read first 100 entries from data.json file\n",
    "    data = read_data('data.json', num_entries=100)\n",
    "\n",
    "    # Preprocess the data\n",
    "    preprocessed_data = preprocess_data(data)\n",
    "\n",
    "    # Write preprocessed data to preprocess.json file\n",
    "    write_data(preprocessed_data, 'preprocess.json')\n",
    "\n",
    "if __name__ == \"__main__\":\n",
    "    main()\n"
   ]
  },
  {
   "cell_type": "code",
   "execution_count": 27,
   "id": "f2c12bf0-abc3-4482-99e0-fed27e7f5d48",
   "metadata": {},
   "outputs": [
    {
     "name": "stdout",
     "output_type": "stream",
     "text": [
      "Number of entries: 100\n"
     ]
    }
   ],
   "source": [
    "import json\n",
    "\n",
    "# Function to count the number of entries in a JSON file\n",
    "def count_entries(filename):\n",
    "    with open(filename, 'r') as file:\n",
    "        data = json.load(file)\n",
    "        num_entries = len(data)\n",
    "    return num_entries\n",
    "\n",
    "# Example usage:\n",
    "num_entries = count_entries('preprocess.json')\n",
    "print(\"Number of entries:\", num_entries)\n"
   ]
  },
  {
   "cell_type": "code",
   "execution_count": null,
   "id": "b2ded167-f3a9-4345-a786-53c27d415ed6",
   "metadata": {},
   "outputs": [],
   "source": []
  }
 ],
 "metadata": {
  "kernelspec": {
   "display_name": "Python 3 (ipykernel)",
   "language": "python",
   "name": "python3"
  },
  "language_info": {
   "codemirror_mode": {
    "name": "ipython",
    "version": 3
   },
   "file_extension": ".py",
   "mimetype": "text/x-python",
   "name": "python",
   "nbconvert_exporter": "python",
   "pygments_lexer": "ipython3",
   "version": "3.10.12"
  }
 },
 "nbformat": 4,
 "nbformat_minor": 5
}
