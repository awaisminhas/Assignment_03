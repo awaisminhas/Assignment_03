{
 "cells": [
  {
   "cell_type": "code",
   "execution_count": 1,
   "id": "ab8f14f2-e711-4040-a430-d92bd80b3cd2",
   "metadata": {},
   "outputs": [],
   "source": [
    "import json\n",
    "\n",
    "def preprocess_batch(data):\n",
    "    preprocessed_data = []\n",
    "    for entry in data:\n",
    "        # Check if the \"also_buy\" field is not empty\n",
    "        if entry.get(\"also_buy\"):\n",
    "            # Clean and format each entry\n",
    "            cleaned_entry = {\n",
    "                \"title\": entry.get(\"title\", \"\"),\n",
    "                \"brand\": entry.get(\"brand\", \"\"),\n",
    "                \"also_buy\": entry.get(\"also_buy\", []),\n",
    "                \"asin\": entry.get(\"asin\", \"\"),\n",
    "                # Add more keys as needed\n",
    "            }\n",
    "            preprocessed_data.append(cleaned_entry)\n",
    "    return preprocessed_data\n",
    "\n",
    "def main():\n",
    "    chunk_size = 100  # Number of entries to read at a time\n",
    "    with open('i211377_sample.json', 'r') as file:\n",
    "        with open('preprocessed_data.json', 'w') as outfile:\n",
    "            outfile.write(\"[\\n\")  # Write opening bracket of the JSON array\n",
    "            first_entry = True  # Flag to track if it's the first entry being written\n",
    "            # Read the file in chunks\n",
    "            for i in range(5):  # For testing purposes, consider removing this limit for the full file\n",
    "                chunk = []\n",
    "                for _ in range(chunk_size):\n",
    "                    line = file.readline()\n",
    "                    if not line:\n",
    "                        break\n",
    "                    entry = json.loads(line)\n",
    "                    preprocessed_entry = preprocess_batch([entry])\n",
    "                    if preprocessed_entry:  # Check if the entry is not empty after preprocessing\n",
    "                        if not first_entry:\n",
    "                            outfile.write(\",\\n\")  # Add comma and newline if it's not the first entry\n",
    "                        else:\n",
    "                            first_entry = False\n",
    "                        json.dump(preprocessed_entry[0], outfile, indent=4)\n",
    "            outfile.write(\"\\n]\")  # Write closing bracket of the JSON array\n",
    "\n",
    "if __name__ == \"__main__\":\n",
    "    main()\n"
   ]
  },
  {
   "cell_type": "code",
   "execution_count": 2,
   "id": "dee38fa3-b8b3-42e7-80bb-27b01f25f878",
   "metadata": {},
   "outputs": [
    {
     "name": "stdout",
     "output_type": "stream",
     "text": [
      "Number of entries: 99\n"
     ]
    }
   ],
   "source": [
    "import json\n",
    "\n",
    "def count_entries(json_file):\n",
    "    with open(json_file, 'r') as file:\n",
    "        data = json.load(file)\n",
    "        num_entries = len(data)\n",
    "    return num_entries\n",
    "\n",
    "json_file = 'preprocessed_data.json'  # Replace 'data.json' with the path to your JSON file\n",
    "num_entries = count_entries(json_file)\n",
    "print(\"Number of entries:\", num_entries)\n"
   ]
  },
  {
   "cell_type": "code",
   "execution_count": null,
   "id": "dfafca30-0f5a-46ee-be69-b3ce7cd50e03",
   "metadata": {},
   "outputs": [],
   "source": []
  }
 ],
 "metadata": {
  "kernelspec": {
   "display_name": "Python 3 (ipykernel)",
   "language": "python",
   "name": "python3"
  },
  "language_info": {
   "codemirror_mode": {
    "name": "ipython",
    "version": 3
   },
   "file_extension": ".py",
   "mimetype": "text/x-python",
   "name": "python",
   "nbconvert_exporter": "python",
   "pygments_lexer": "ipython3",
   "version": "3.10.12"
  }
 },
 "nbformat": 4,
 "nbformat_minor": 5
}
