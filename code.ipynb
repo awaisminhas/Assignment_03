{
 "cells": [
  {
   "cell_type": "code",
   "execution_count": 12,
   "metadata": {},
   "outputs": [],
   "source": [
    "import json\n",
    "import os\n",
    "from tqdm import tqdm  # Corrected from tqdn to tqdm\n",
    "\n",
    "def sample_json(input_file, output_file, target_size_gb, filter_key='also_buy'):  # Corrected filter_keys to filter_key\n",
    "    target_size_bytes = target_size_gb * 1\n",
    "    current_size_bytes = 0\n",
    "\n",
    "    with open(input_file, 'r', encoding='utf-8') as infile, open(output_file, 'w', encoding='utf-8') as outfile:\n",
    "        for line in tqdm(infile):  # Corrected tqdn to tqdm\n",
    "            record = json.loads(line)\n",
    "\n",
    "            if record.get(filter_key):  # Ensures that the filter_key exists in the record\n",
    "                outfile.write(json.dumps(record) + '\\n')\n",
    "                current_size_bytes += len(line.encode('utf-8'))  # Corrected current_size_byte to current_size_bytes\n",
    "\n",
    "            if current_size_bytes >= target_size_bytes:\n",
    "                break\n",
    "\n",
    "    # Corrected the format string syntax in the print statement\n",
    "    print(f\"Finished sampling. Output size: {current_size_bytes / 1:.2f} GB\")\n"
   ]
  },
  {
   "cell_type": "code",
   "execution_count": 13,
   "metadata": {},
   "outputs": [
    {
     "name": "stderr",
     "output_type": "stream",
     "text": [
      "167597it [00:01, 125712.86it/s]"
     ]
    },
    {
     "name": "stdout",
     "output_type": "stream",
     "text": [
      "Finished sampling. Output size: 0.00 GB\n"
     ]
    },
    {
     "name": "stderr",
     "output_type": "stream",
     "text": [
      "\n"
     ]
    }
   ],
   "source": [
    "sample_json('data.json','save.json',0.3)"
   ]
  }
 ],
 "metadata": {
  "kernelspec": {
   "display_name": "Python 3",
   "language": "python",
   "name": "python3"
  },
  "language_info": {
   "codemirror_mode": {
    "name": "ipython",
    "version": 3
   },
   "file_extension": ".py",
   "mimetype": "text/x-python",
   "name": "python",
   "nbconvert_exporter": "python",
   "pygments_lexer": "ipython3",
   "version": "3.10.12"
  }
 },
 "nbformat": 4,
 "nbformat_minor": 2
}
